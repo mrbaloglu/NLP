{
 "cells": [
  {
   "cell_type": "code",
   "execution_count": 1,
   "metadata": {},
   "outputs": [
    {
     "name": "stderr",
     "output_type": "stream",
     "text": [
      "Using TensorFlow backend.\n"
     ]
    },
    {
     "name": "stdout",
     "output_type": "stream",
     "text": [
      "Using cpu.\n"
     ]
    }
   ],
   "source": [
    "import numpy as np\n",
    "import pandas as pd\n",
    "from preprocessing import *\n",
    "from baseline_models import *\n",
    "import pickle"
   ]
  },
  {
   "cell_type": "code",
   "execution_count": 2,
   "metadata": {},
   "outputs": [
    {
     "data": {
      "text/html": [
       "<div>\n",
       "<style scoped>\n",
       "    .dataframe tbody tr th:only-of-type {\n",
       "        vertical-align: middle;\n",
       "    }\n",
       "\n",
       "    .dataframe tbody tr th {\n",
       "        vertical-align: top;\n",
       "    }\n",
       "\n",
       "    .dataframe thead th {\n",
       "        text-align: right;\n",
       "    }\n",
       "</style>\n",
       "<table border=\"1\" class=\"dataframe\">\n",
       "  <thead>\n",
       "    <tr style=\"text-align: right;\">\n",
       "      <th></th>\n",
       "      <th>label</th>\n",
       "      <th>review</th>\n",
       "      <th>review_tokenized</th>\n",
       "    </tr>\n",
       "  </thead>\n",
       "  <tbody>\n",
       "    <tr>\n",
       "      <th>0</th>\n",
       "      <td>0</td>\n",
       "      <td>it so laddish and juvenile only teenage boys c...</td>\n",
       "      <td>[5, 36, 9967, 2, 2919, 62, 1825, 785, 97, 1112...</td>\n",
       "    </tr>\n",
       "    <tr>\n",
       "      <th>1</th>\n",
       "      <td>0</td>\n",
       "      <td>exploitative and largely devoid of the depth o...</td>\n",
       "      <td>[2160, 2, 927, 1232, 3, 1, 650, 38, 4582, 8, 8...</td>\n",
       "    </tr>\n",
       "    <tr>\n",
       "      <th>2</th>\n",
       "      <td>0</td>\n",
       "      <td>garbus discards the potential for pathologica...</td>\n",
       "      <td>[9968, 9969, 1, 811, 13, 9970, 354, 9971, 301,...</td>\n",
       "    </tr>\n",
       "    <tr>\n",
       "      <th>3</th>\n",
       "      <td>0</td>\n",
       "      <td>a visually flashy but narratively opaque and e...</td>\n",
       "      <td>[19, 538, 1826, 10, 3884, 3343, 2, 651, 2606, ...</td>\n",
       "    </tr>\n",
       "    <tr>\n",
       "      <th>4</th>\n",
       "      <td>0</td>\n",
       "      <td>the story is also as unoriginal as they come a...</td>\n",
       "      <td>[1, 39, 6, 140, 9, 2607, 9, 68, 218, 493, 604,...</td>\n",
       "    </tr>\n",
       "  </tbody>\n",
       "</table>\n",
       "</div>"
      ],
      "text/plain": [
       "   label                                             review  \\\n",
       "0      0  it so laddish and juvenile only teenage boys c...   \n",
       "1      0  exploitative and largely devoid of the depth o...   \n",
       "2      0   garbus discards the potential for pathologica...   \n",
       "3      0  a visually flashy but narratively opaque and e...   \n",
       "4      0  the story is also as unoriginal as they come a...   \n",
       "\n",
       "                                    review_tokenized  \n",
       "0  [5, 36, 9967, 2, 2919, 62, 1825, 785, 97, 1112...  \n",
       "1  [2160, 2, 927, 1232, 3, 1, 650, 38, 4582, 8, 8...  \n",
       "2  [9968, 9969, 1, 811, 13, 9970, 354, 9971, 301,...  \n",
       "3  [19, 538, 1826, 10, 3884, 3343, 2, 651, 2606, ...  \n",
       "4  [1, 39, 6, 140, 9, 2607, 9, 68, 218, 493, 604,...  "
      ]
     },
     "execution_count": 2,
     "metadata": {},
     "output_type": "execute_result"
    }
   ],
   "source": [
    "store_file = open(\"rt-processed-tokenized-padded\", \"rb\")\n",
    "data = pickle.load(store_file)\n",
    "store_file.close()\n",
    "\n",
    "data.head()"
   ]
  },
  {
   "cell_type": "code",
   "execution_count": 3,
   "metadata": {},
   "outputs": [
    {
     "data": {
      "text/plain": [
       "array([array([   5,   36, 9967,    2, 2919,   62, 1825,  785,   97, 1112,  214,\n",
       "                 5,   65,    0,    0,    0,    0,    0,    0,    0,    0,    0,\n",
       "                 0,    0,    0,    0,    0,    0,    0,    0,    0,    0,    0,\n",
       "                 0,    0,    0,    0,    0,    0,    0,    0,    0,    0,    0,\n",
       "                 0,    0,    0,    0,    0,    0], dtype=int32)                ,\n",
       "       array([2160,    2,  927, 1232,    3,    1,  650,   38, 4582,    8,   85,\n",
       "                67,  195,  155, 1986, 1177,    3,    1, 1287, 7108,    0,    0,\n",
       "                 0,    0,    0,    0,    0,    0,    0,    0,    0,    0,    0,\n",
       "                 0,    0,    0,    0,    0,    0,    0,    0,    0,    0,    0,\n",
       "                 0,    0,    0,    0,    0,    0], dtype=int32)                ,\n",
       "       array([9968, 9969,    1,  811,   13, 9970,  354, 9971,  301,    1, 5544,\n",
       "               434,    3,    1, 7109,  845,    0,    0,    0,    0,    0,    0,\n",
       "                 0,    0,    0,    0,    0,    0,    0,    0,    0,    0,    0,\n",
       "                 0,    0,    0,    0,    0,    0,    0,    0,    0,    0,    0,\n",
       "                 0,    0,    0,    0,    0,    0], dtype=int32)                ,\n",
       "       ...,\n",
       "       array([ 5057,     7,     1,  2896,     3,  4512,     6,     1,    80,\n",
       "                148,     3,   176,    24,     8,    77, 18143,  4346,   154,\n",
       "                 73,    52,    25,  2826,    92,  5530,     0,     0,     0,\n",
       "                  0,     0,     0,     0,     0,     0,     0,     0,     0,\n",
       "                  0,     0,     0,     0,     0,     0,     0,     0,     0,\n",
       "                  0,     0,     0,     0,     0], dtype=int32)              ,\n",
       "       array([    5,   701,     4,   105, 18144,   257,   184,    33,   188,\n",
       "                232,     2, 18145,     2, 18146,    29,  6901,     0,     0,\n",
       "                  0,     0,     0,     0,     0,     0,     0,     0,     0,\n",
       "                  0,     0,     0,     0,     0,     0,     0,     0,     0,\n",
       "                  0,     0,     0,     0,     0,     0,     0,     0,     0,\n",
       "                  0,     0,     0,     0,     0], dtype=int32)              ,\n",
       "       array([  738, 18147,    49,     8,  2544,  9763,  4051,     8,  3575,\n",
       "                 81,    33,     0,     0,     0,     0,     0,     0,     0,\n",
       "                  0,     0,     0,     0,     0,     0,     0,     0,     0,\n",
       "                  0,     0,     0,     0,     0,     0,     0,     0,     0,\n",
       "                  0,     0,     0,     0,     0,     0,     0,     0,     0,\n",
       "                  0,     0,     0,     0,     0], dtype=int32)              ],\n",
       "      dtype=object)"
      ]
     },
     "execution_count": 3,
     "metadata": {},
     "output_type": "execute_result"
    }
   ],
   "source": [
    "data[\"review_tokenized\"].values"
   ]
  },
  {
   "cell_type": "code",
   "execution_count": 50,
   "metadata": {},
   "outputs": [
    {
     "data": {
      "text/plain": [
       "numpy.ndarray"
      ]
     },
     "execution_count": 50,
     "metadata": {},
     "output_type": "execute_result"
    }
   ],
   "source": [
    "type(data[\"review_tokenized\"][0])"
   ]
  },
  {
   "cell_type": "code",
   "execution_count": 5,
   "metadata": {},
   "outputs": [
    {
     "name": "stdout",
     "output_type": "stream",
     "text": [
      "Shape of X: (10661, 50), shape of Y: (10661,)\n"
     ]
    }
   ],
   "source": [
    "X = np.stack(data[\"review_tokenized\"].values)\n",
    "Y = data[\"label\"].values\n",
    "print(f\"Shape of X: {X.shape}, shape of Y: {Y.shape}\")"
   ]
  },
  {
   "cell_type": "code",
   "execution_count": 10,
   "metadata": {},
   "outputs": [
    {
     "data": {
      "text/plain": [
       "(18148, 18147, 2)"
      ]
     },
     "execution_count": 10,
     "metadata": {},
     "output_type": "execute_result"
    }
   ],
   "source": [
    "len(np.unique(X)), np.max(X), len(np.unique(Y))"
   ]
  },
  {
   "cell_type": "code",
   "execution_count": 64,
   "metadata": {},
   "outputs": [
    {
     "data": {
      "text/plain": [
       "True"
      ]
     },
     "execution_count": 64,
     "metadata": {},
     "output_type": "execute_result"
    }
   ],
   "source": [
    "import re\n",
    "\n",
    "\"output.csv\".endswith(\".csv\")"
   ]
  },
  {
   "cell_type": "code",
   "execution_count": null,
   "metadata": {},
   "outputs": [],
   "source": []
  }
 ],
 "metadata": {
  "kernelspec": {
   "display_name": "Python 3.7.13 ('inferno')",
   "language": "python",
   "name": "python3"
  },
  "language_info": {
   "codemirror_mode": {
    "name": "ipython",
    "version": 3
   },
   "file_extension": ".py",
   "mimetype": "text/x-python",
   "name": "python",
   "nbconvert_exporter": "python",
   "pygments_lexer": "ipython3",
   "version": "3.7.13"
  },
  "orig_nbformat": 4,
  "vscode": {
   "interpreter": {
    "hash": "bb978afd226374b4f3169fbe5928f76e34f2c89add9ee986f2aa663d426af832"
   }
  }
 },
 "nbformat": 4,
 "nbformat_minor": 2
}
